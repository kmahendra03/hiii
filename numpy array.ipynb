{
 "cells": [
  {
   "cell_type": "code",
   "execution_count": 1,
   "id": "be178869-e920-4861-8450-85a9798763d5",
   "metadata": {},
   "outputs": [],
   "source": [
    "import numpy as np\n"
   ]
  },
  {
   "cell_type": "code",
   "execution_count": 2,
   "id": "f711d86e-23ee-45fd-9aaa-42110797ac41",
   "metadata": {},
   "outputs": [
    {
     "name": "stdout",
     "output_type": "stream",
     "text": [
      "[10 20 30]\n"
     ]
    }
   ],
   "source": [
    "l1=[10,20,30]\n",
    "arr1=np.array(l1)\n",
    "print(arr1)"
   ]
  },
  {
   "cell_type": "code",
   "execution_count": 4,
   "id": "4c25c0fd-6dde-4f0f-be5c-e1f31484f90c",
   "metadata": {},
   "outputs": [
    {
     "name": "stdout",
     "output_type": "stream",
     "text": [
      "10\n",
      "[10 20]\n"
     ]
    }
   ],
   "source": [
    "print(arr1[0])\n",
    "print(arr1[0:2])"
   ]
  },
  {
   "cell_type": "code",
   "execution_count": 5,
   "id": "10b05b01-c518-4801-9dff-89fed3db1b6d",
   "metadata": {},
   "outputs": [
    {
     "name": "stdout",
     "output_type": "stream",
     "text": [
      "[[1 2 3]\n",
      " [4 5 6]]\n"
     ]
    }
   ],
   "source": [
    "l2=[[1,2,3],[4,5,6]]\n",
    "arr2=np.array(l2)\n",
    "print(arr2)"
   ]
  },
  {
   "cell_type": "code",
   "execution_count": 10,
   "id": "b5d58da2-14c2-4c81-8fce-bdbb5e54020e",
   "metadata": {},
   "outputs": [
    {
     "name": "stdout",
     "output_type": "stream",
     "text": [
      "[[1 2 3]]\n",
      "2\n"
     ]
    }
   ],
   "source": [
    "print(arr2[: 1])\n",
    "print(arr2[0,1])"
   ]
  },
  {
   "cell_type": "code",
   "execution_count": 12,
   "id": "50ed793d-3e3a-4b46-bd3c-1e1dab6bda00",
   "metadata": {},
   "outputs": [
    {
     "name": "stdout",
     "output_type": "stream",
     "text": [
      "[10.   1.4  3.2 20. ]\n",
      "1\n",
      "(4,)\n",
      "4\n",
      "float64\n",
      "8\n"
     ]
    }
   ],
   "source": [
    "arr3=np.array([10,1.4,3.2,20])\n",
    "print(arr3)\n",
    "print(arr3.ndim)\n",
    "print(arr3.shape)\n",
    "print(arr3.size)\n",
    "print(arr3.dtype)\n",
    "print(arr3.itemsize)"
   ]
  },
  {
   "cell_type": "code",
   "execution_count": 13,
   "id": "4f0af5c8-bd6d-40cb-9ead-3fb8569d17b3",
   "metadata": {},
   "outputs": [
    {
     "name": "stdout",
     "output_type": "stream",
     "text": [
      "[0. 0. 0. 0. 0.]\n"
     ]
    }
   ],
   "source": [
    "az1=np.zeros(5)\n",
    "print(az1)"
   ]
  },
  {
   "cell_type": "code",
   "execution_count": 14,
   "id": "3274ec6f-1cba-4b35-9b89-c1b513d0a6da",
   "metadata": {},
   "outputs": [
    {
     "name": "stdout",
     "output_type": "stream",
     "text": [
      "[0 0 0 0 0]\n"
     ]
    }
   ],
   "source": [
    "az2=np.zeros(5,dtype=np.uint8)\n",
    "print(az2)"
   ]
  },
  {
   "cell_type": "code",
   "execution_count": 18,
   "id": "e743530e-29dd-457b-b0ae-40fe4df85b0a",
   "metadata": {},
   "outputs": [
    {
     "name": "stdout",
     "output_type": "stream",
     "text": [
      "[1. 1. 1. 1. 1.]\n"
     ]
    }
   ],
   "source": [
    "az3=np.ones(5)\n",
    "print(az3)"
   ]
  },
  {
   "cell_type": "code",
   "execution_count": 19,
   "id": "58fbad06-647e-450a-8dfe-ebe29f0edc12",
   "metadata": {},
   "outputs": [
    {
     "name": "stdout",
     "output_type": "stream",
     "text": [
      "[1 1 1 1 1]\n"
     ]
    }
   ],
   "source": [
    "az4=np.ones(5,dtype=np.uint8)\n",
    "print(az4)"
   ]
  },
  {
   "cell_type": "code",
   "execution_count": 20,
   "id": "380b129a-27f7-4542-8fc4-a9ba224211bc",
   "metadata": {},
   "outputs": [
    {
     "name": "stdout",
     "output_type": "stream",
     "text": [
      "[2 5 8]\n"
     ]
    }
   ],
   "source": [
    "aa1=np.arange(2,11,3,dtype=np.uint8)\n",
    "print(aa1)"
   ]
  },
  {
   "cell_type": "code",
   "execution_count": 21,
   "id": "5dff7efe-e2b3-4dab-af29-422aac83fa47",
   "metadata": {},
   "outputs": [
    {
     "name": "stdout",
     "output_type": "stream",
     "text": [
      "[  1.      5.125   9.25   13.375  17.5    21.625  25.75   29.875  34.\n",
      "  38.125  42.25   46.375  50.5    54.625  58.75   62.875  67.     71.125\n",
      "  75.25   79.375  83.5    87.625  91.75   95.875 100.   ]\n"
     ]
    }
   ],
   "source": [
    "bb=np.linspace(1,100,25)\n",
    "print(bb)"
   ]
  },
  {
   "cell_type": "code",
   "execution_count": 24,
   "id": "7e16f7ac-ece0-4600-b4c1-d435a83f480e",
   "metadata": {},
   "outputs": [
    {
     "name": "stdout",
     "output_type": "stream",
     "text": [
      "[[1 2]\n",
      " [3 4]]\n"
     ]
    }
   ],
   "source": [
    "arr6=np.array([1,2,3,4])\n",
    "arr7=arr6.reshape([2,2])\n",
    "print(arr7)"
   ]
  }
 ],
 "metadata": {
  "kernelspec": {
   "display_name": "Python 3 (ipykernel)",
   "language": "python",
   "name": "python3"
  },
  "language_info": {
   "codemirror_mode": {
    "name": "ipython",
    "version": 3
   },
   "file_extension": ".py",
   "mimetype": "text/x-python",
   "name": "python",
   "nbconvert_exporter": "python",
   "pygments_lexer": "ipython3",
   "version": "3.11.7"
  }
 },
 "nbformat": 4,
 "nbformat_minor": 5
}
