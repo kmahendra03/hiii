{
 "cells": [
  {
   "cell_type": "markdown",
   "id": "517447fe",
   "metadata": {},
   "source": [
    "## Step 1: Load breast cancer dataset from sklean and split it as train and test sets."
   ]
  },
  {
   "cell_type": "markdown",
   "id": "aeb9e2ec",
   "metadata": {},
   "source": [
    "### sklearn.datasets.load_breast_cancer()\n",
    "\n",
    "--> Number of classes: 2 ['malignant', 'benign']\n",
    "\n",
    "--> Total samples: 569 ['malignant' 212, 'benign' 357]\n",
    "\n",
    "--> Dimensionality: 30\n",
    "\n",
    "**Returns dictionary-like Bunch object with following attributes**\n",
    "\n",
    "--> data: The ndarray of input data samples with a shape (569, 30)\n",
    "\n",
    "--> target: The ndarray of classification target with a shape (569, )\n",
    "\n",
    "--> feature_names: List of feature names\n",
    "\n",
    "--> target_names: List of target class names\n",
    "\n"
   ]
  },
  {
   "cell_type": "code",
   "execution_count": 7,
   "id": "4dc2327f",
   "metadata": {},
   "outputs": [
    {
     "name": "stdout",
     "output_type": "stream",
     "text": [
      "Input features: ['mean radius' 'mean texture' 'mean perimeter' 'mean area'\n",
      " 'mean smoothness' 'mean compactness' 'mean concavity'\n",
      " 'mean concave points' 'mean symmetry' 'mean fractal dimension'\n",
      " 'radius error' 'texture error' 'perimeter error' 'area error'\n",
      " 'smoothness error' 'compactness error' 'concavity error'\n",
      " 'concave points error' 'symmetry error' 'fractal dimension error'\n",
      " 'worst radius' 'worst texture' 'worst perimeter' 'worst area'\n",
      " 'worst smoothness' 'worst compactness' 'worst concavity'\n",
      " 'worst concave points' 'worst symmetry' 'worst fractal dimension']\n",
      "Target classes: ['malignant' 'benign']\n",
      "Shape of Input treaining Data: (569, 30)\n",
      "Shape of output treaining Data: (569,)\n"
     ]
    }
   ],
   "source": [
    "from sklearn.datasets import load_breast_cancer\n",
    "dataset=load_breast_cancer()\n",
    "print(\"Input features:\",dataset.feature_names)\n",
    "print(\"Target classes:\",dataset.target_names)\n",
    "x=dataset.data\n",
    "y=dataset.target\n",
    "print(\"Shape of Input treaining Data:\",x.shape)\n",
    "print(\"Shape of output treaining Data:\",y.shape)"
   ]
  },
  {
   "cell_type": "code",
   "execution_count": 8,
   "id": "f08b2c71",
   "metadata": {},
   "outputs": [
    {
     "name": "stdout",
     "output_type": "stream",
     "text": [
      "Training data input shape: (170, 30)\n",
      "Training data input shape: (170,)\n",
      "Test data input shape: (399, 30)\n",
      "Test data input shape: (399,)\n"
     ]
    }
   ],
   "source": [
    "from sklearn.model_selection import train_test_split\n",
    "x_train,x_test,y_train,y_test=train_test_split(x,y,test_size=0.7,random_state=37)\n",
    "print(\"Training data input shape:\",x_train.shape)\n",
    "print(\"Training data input shape:\",y_train.shape)\n",
    "print(\"Test data input shape:\",x_test.shape)\n",
    "print(\"Test data input shape:\",y_test.shape)"
   ]
  },
  {
   "cell_type": "markdown",
   "id": "d8270068",
   "metadata": {},
   "source": [
    "## Step 2: Build the model\n",
    "\n",
    "### Import KNearestClassifier from sklearn.neighbors\n",
    "--> Object creation: model = KNeighborsClassifier(n_neighbors) "
   ]
  },
  {
   "cell_type": "code",
   "execution_count": 9,
   "id": "25a690b4",
   "metadata": {},
   "outputs": [
    {
     "data": {
      "text/html": [
       "<style>#sk-container-id-2 {color: black;background-color: white;}#sk-container-id-2 pre{padding: 0;}#sk-container-id-2 div.sk-toggleable {background-color: white;}#sk-container-id-2 label.sk-toggleable__label {cursor: pointer;display: block;width: 100%;margin-bottom: 0;padding: 0.3em;box-sizing: border-box;text-align: center;}#sk-container-id-2 label.sk-toggleable__label-arrow:before {content: \"▸\";float: left;margin-right: 0.25em;color: #696969;}#sk-container-id-2 label.sk-toggleable__label-arrow:hover:before {color: black;}#sk-container-id-2 div.sk-estimator:hover label.sk-toggleable__label-arrow:before {color: black;}#sk-container-id-2 div.sk-toggleable__content {max-height: 0;max-width: 0;overflow: hidden;text-align: left;background-color: #f0f8ff;}#sk-container-id-2 div.sk-toggleable__content pre {margin: 0.2em;color: black;border-radius: 0.25em;background-color: #f0f8ff;}#sk-container-id-2 input.sk-toggleable__control:checked~div.sk-toggleable__content {max-height: 200px;max-width: 100%;overflow: auto;}#sk-container-id-2 input.sk-toggleable__control:checked~label.sk-toggleable__label-arrow:before {content: \"▾\";}#sk-container-id-2 div.sk-estimator input.sk-toggleable__control:checked~label.sk-toggleable__label {background-color: #d4ebff;}#sk-container-id-2 div.sk-label input.sk-toggleable__control:checked~label.sk-toggleable__label {background-color: #d4ebff;}#sk-container-id-2 input.sk-hidden--visually {border: 0;clip: rect(1px 1px 1px 1px);clip: rect(1px, 1px, 1px, 1px);height: 1px;margin: -1px;overflow: hidden;padding: 0;position: absolute;width: 1px;}#sk-container-id-2 div.sk-estimator {font-family: monospace;background-color: #f0f8ff;border: 1px dotted black;border-radius: 0.25em;box-sizing: border-box;margin-bottom: 0.5em;}#sk-container-id-2 div.sk-estimator:hover {background-color: #d4ebff;}#sk-container-id-2 div.sk-parallel-item::after {content: \"\";width: 100%;border-bottom: 1px solid gray;flex-grow: 1;}#sk-container-id-2 div.sk-label:hover label.sk-toggleable__label {background-color: #d4ebff;}#sk-container-id-2 div.sk-serial::before {content: \"\";position: absolute;border-left: 1px solid gray;box-sizing: border-box;top: 0;bottom: 0;left: 50%;z-index: 0;}#sk-container-id-2 div.sk-serial {display: flex;flex-direction: column;align-items: center;background-color: white;padding-right: 0.2em;padding-left: 0.2em;position: relative;}#sk-container-id-2 div.sk-item {position: relative;z-index: 1;}#sk-container-id-2 div.sk-parallel {display: flex;align-items: stretch;justify-content: center;background-color: white;position: relative;}#sk-container-id-2 div.sk-item::before, #sk-container-id-2 div.sk-parallel-item::before {content: \"\";position: absolute;border-left: 1px solid gray;box-sizing: border-box;top: 0;bottom: 0;left: 50%;z-index: -1;}#sk-container-id-2 div.sk-parallel-item {display: flex;flex-direction: column;z-index: 1;position: relative;background-color: white;}#sk-container-id-2 div.sk-parallel-item:first-child::after {align-self: flex-end;width: 50%;}#sk-container-id-2 div.sk-parallel-item:last-child::after {align-self: flex-start;width: 50%;}#sk-container-id-2 div.sk-parallel-item:only-child::after {width: 0;}#sk-container-id-2 div.sk-dashed-wrapped {border: 1px dashed gray;margin: 0 0.4em 0.5em 0.4em;box-sizing: border-box;padding-bottom: 0.4em;background-color: white;}#sk-container-id-2 div.sk-label label {font-family: monospace;font-weight: bold;display: inline-block;line-height: 1.2em;}#sk-container-id-2 div.sk-label-container {text-align: center;}#sk-container-id-2 div.sk-container {/* jupyter's `normalize.less` sets `[hidden] { display: none; }` but bootstrap.min.css set `[hidden] { display: none !important; }` so we also need the `!important` here to be able to override the default hidden behavior on the sphinx rendered scikit-learn.org. See: https://github.com/scikit-learn/scikit-learn/issues/21755 */display: inline-block !important;position: relative;}#sk-container-id-2 div.sk-text-repr-fallback {display: none;}</style><div id=\"sk-container-id-2\" class=\"sk-top-container\"><div class=\"sk-text-repr-fallback\"><pre>KNeighborsClassifier(n_neighbors=4)</pre><b>In a Jupyter environment, please rerun this cell to show the HTML representation or trust the notebook. <br />On GitHub, the HTML representation is unable to render, please try loading this page with nbviewer.org.</b></div><div class=\"sk-container\" hidden><div class=\"sk-item\"><div class=\"sk-estimator sk-toggleable\"><input class=\"sk-toggleable__control sk-hidden--visually\" id=\"sk-estimator-id-2\" type=\"checkbox\" checked><label for=\"sk-estimator-id-2\" class=\"sk-toggleable__label sk-toggleable__label-arrow\">KNeighborsClassifier</label><div class=\"sk-toggleable__content\"><pre>KNeighborsClassifier(n_neighbors=4)</pre></div></div></div></div></div>"
      ],
      "text/plain": [
       "KNeighborsClassifier(n_neighbors=4)"
      ]
     },
     "execution_count": 9,
     "metadata": {},
     "output_type": "execute_result"
    }
   ],
   "source": [
    "from sklearn.neighbors import KNeighborsClassifier\n",
    "knn3=KNeighborsClassifier(n_neighbors=4)\n",
    "knn3.fit(x_train,y_train)"
   ]
  },
  {
   "cell_type": "markdown",
   "id": "df0919dc",
   "metadata": {},
   "source": [
    "## Step 3: Test the model\n",
    "### We can import confusion_matrix, accuracy_score, recall_score, precision_score, f1_score functions from sklearn.metrics"
   ]
  },
  {
   "cell_type": "code",
   "execution_count": 10,
   "id": "6747c64f",
   "metadata": {},
   "outputs": [],
   "source": [
    "y_pred=knn3.predict(x_test)\n"
   ]
  },
  {
   "cell_type": "code",
   "execution_count": 11,
   "id": "62937ba7",
   "metadata": {},
   "outputs": [
    {
     "name": "stdout",
     "output_type": "stream",
     "text": [
      "Confusion matrix\n",
      " [[125  19]\n",
      " [ 28 227]]\n",
      "Accuracy Score:  0.8822055137844611\n",
      "Precision:  0.9227642276422764\n",
      "Recall Score:  0.8901960784313725\n",
      "F1 Score: 0.906187624750499\n"
     ]
    }
   ],
   "source": [
    "from sklearn.metrics import confusion_matrix,accuracy_score,precision_score,recall_score,f1_score\n",
    "print(\"Confusion matrix\\n\",confusion_matrix(y_test,y_pred))\n",
    "print(\"Accuracy Score: \",accuracy_score(y_test,y_pred))\n",
    "print(\"Precision: \",precision_score(y_test,y_pred))\n",
    "print(\"Recall Score: \",recall_score(y_test,y_pred))\n",
    "print(\"F1 Score:\",f1_score(y_test,y_pred))"
   ]
  },
  {
   "cell_type": "code",
   "execution_count": 15,
   "id": "b5842eee-19c0-4b99-8c34-c5a9b88ecb25",
   "metadata": {},
   "outputs": [],
   "source": [
    "from sklearn.neighbors import KNeighborsClassifier\n",
    "from sklearn.metrics import accuracy_score\n",
    "k_values=range(1,26,2)\n",
    "train_accuracies=[]\n",
    "test_accuracies=[]\n",
    "for k in k_values:\n",
    "   knn=KNeighborsClassifier(n_neighbors= k)\n",
    "   knn.fit(x_train,y_train)\n",
    "   train_accuracy=accuracy_score(y_train,knn.predict(x_train))\n",
    "   train_accuracies.append(train_accuracy)\n",
    "   test_accuracy=accuracy_score(y_test,knn.predict(x_test))\n",
    "   test_accuracies.append(test_accuracy)"
   ]
  },
  {
   "cell_type": "code",
   "execution_count": 16,
   "id": "e082436a-46f8-4b81-8301-ab0ee3751266",
   "metadata": {},
   "outputs": [
    {
     "name": "stdout",
     "output_type": "stream",
     "text": [
      "training accuracies: [1.0, 0.9470588235294117, 0.9411764705882353, 0.9352941176470588, 0.9352941176470588, 0.9411764705882353, 0.9411764705882353, 0.9411764705882353, 0.9411764705882353, 0.9352941176470588, 0.9352941176470588, 0.9352941176470588, 0.9352941176470588]\n",
      "test accuracies: [0.899749373433584, 0.9047619047619048, 0.9072681704260651, 0.9022556390977443, 0.9022556390977443, 0.899749373433584, 0.8972431077694235, 0.8972431077694235, 0.8947368421052632, 0.8872180451127819, 0.8872180451127819, 0.8897243107769424, 0.8947368421052632]\n"
     ]
    }
   ],
   "source": [
    "print(\"training accuracies:\", train_accuracies)\n",
    "print(\"test accuracies:\", test_accuracies)"
   ]
  },
  {
   "cell_type": "code",
   "execution_count": 17,
   "id": "16019ddc-73b4-4217-b5d1-c903786f4f88",
   "metadata": {},
   "outputs": [
    {
     "data": {
      "text/plain": [
       "Text(0.5, 1.0, 'finding k values')"
      ]
     },
     "execution_count": 17,
     "metadata": {},
     "output_type": "execute_result"
    },
    {
     "data": {
      "image/png": "[encoded data removed]",
      "text/plain": [
       "<Figure size 640x480 with 1 Axes>"
      ]
     },
     "metadata": {},
     "output_type": "display_data"
    }
   ],
   "source": [
    "import matplotlib.pyplot as plt\n",
    "plt.plot(k_values, train_accuracies, color=\"red\")\n",
    "plt.plot(k_values, test_accuracies, color=\"green\")\n",
    "plt.legend([\"train accuracy\", \"test accuracy\"])\n",
    "plt.xlabel(\"k\")\n",
    "plt.ylabel(\"accuracy\")\n",
    "plt.title(\"finding k values\")"
   ]
  }
 ],
 "metadata": {
  "kernelspec": {
   "display_name": "Python 3 (ipykernel)",
   "language": "python",
   "name": "python3"
  },
  "language_info": {
   "codemirror_mode": {
    "name": "ipython",
    "version": 3
   },
   "file_extension": ".py",
   "mimetype": "text/x-python",
   "name": "python",
   "nbconvert_exporter": "python",
   "pygments_lexer": "ipython3",
   "version": "3.11.7"
  }
 },
 "nbformat": 4,
 "nbformat_minor": 5
}
