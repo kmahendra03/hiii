{
 "cells": [
  {
   "cell_type": "code",
   "execution_count": 2,
   "id": "b22f4837-f797-409d-9475-ca2ee09e6b2d",
   "metadata": {},
   "outputs": [],
   "source": [
    "import pandas as pd"
   ]
  },
  {
   "cell_type": "code",
   "execution_count": 7,
   "id": "55293a27-e373-4803-8322-0c163262bd1a",
   "metadata": {},
   "outputs": [
    {
     "name": "stdout",
     "output_type": "stream",
     "text": [
      "   Name  Age Gender\n",
      "R1    x   10      M\n",
      "R2    y   20      M\n",
      "R3    z   30      F\n"
     ]
    }
   ],
   "source": [
    "df={\"Name\":[\"x\",\"y\",\"z\"],\"Age\":[10,20,30],\"Gender\":[\"M\",\"M\",\"F\"]}\n",
    "x=pd.DataFrame(df,index=[\"R1\",\"R2\",\"R3\"])\n",
    "print(x)"
   ]
  },
  {
   "cell_type": "code",
   "execution_count": 9,
   "id": "cb0aadce-8f70-4c0b-86b6-fe29252ebce7",
   "metadata": {},
   "outputs": [
    {
     "name": "stdout",
     "output_type": "stream",
     "text": [
      "(3, 3)\n"
     ]
    }
   ],
   "source": [
    "print(x.shape)"
   ]
  },
  {
   "cell_type": "code",
   "execution_count": 10,
   "id": "d090ba81-692e-4af5-896b-bf32c1029d67",
   "metadata": {},
   "outputs": [
    {
     "name": "stdout",
     "output_type": "stream",
     "text": [
      "2\n"
     ]
    }
   ],
   "source": [
    "print(x.ndim)"
   ]
  },
  {
   "cell_type": "code",
   "execution_count": 11,
   "id": "502a8943-628a-43cb-8b52-e5b4c1095a41",
   "metadata": {},
   "outputs": [
    {
     "name": "stdout",
     "output_type": "stream",
     "text": [
      "9\n"
     ]
    }
   ],
   "source": [
    "print(x.size)"
   ]
  },
  {
   "cell_type": "code",
   "execution_count": 13,
   "id": "510e706e-e3a3-4bee-98ef-b0865e326db4",
   "metadata": {},
   "outputs": [
    {
     "name": "stdout",
     "output_type": "stream",
     "text": [
      "[['x' 10 'M']\n",
      " ['y' 20 'M']\n",
      " ['z' 30 'F']]\n"
     ]
    }
   ],
   "source": [
    "print(x.values)"
   ]
  },
  {
   "cell_type": "code",
   "execution_count": null,
   "id": "57173045-f6c4-41b9-9617-ad20afcbcae2",
   "metadata": {},
   "outputs": [],
   "source": []
  },
  {
   "cell_type": "code",
   "execution_count": null,
   "id": "b729b2e3-2205-421a-8b97-0a1f45a5cc9f",
   "metadata": {},
   "outputs": [],
   "source": []
  }
 ],
 "metadata": {
  "kernelspec": {
   "display_name": "Python 3 (ipykernel)",
   "language": "python",
   "name": "python3"
  },
  "language_info": {
   "codemirror_mode": {
    "name": "ipython",
    "version": 3
   },
   "file_extension": ".py",
   "mimetype": "text/x-python",
   "name": "python",
   "nbconvert_exporter": "python",
   "pygments_lexer": "ipython3",
   "version": "3.11.7"
  }
 },
 "nbformat": 4,
 "nbformat_minor": 5
}
