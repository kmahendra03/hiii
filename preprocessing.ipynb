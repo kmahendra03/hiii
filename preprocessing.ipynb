{
 "cells": [
  {
   "cell_type": "markdown",
   "id": "5315b081",
   "metadata": {},
   "source": [
    "<h1 style = \"color:Brown\">Objectives</h1>\n",
    "\n",
    "### 1. Loading data.\n",
    "### 2. Checking for missing values.\n",
    "### 3. Splitting the data in to train set and test set.\n",
    "\n",
    "\n"
   ]
  },
  {
   "cell_type": "markdown",
   "id": "9cfb0ebd",
   "metadata": {},
   "source": [
    "<h2 style = \"color:green\">Loading Data</h2>"
   ]
  },
  {
   "cell_type": "code",
   "execution_count": 3,
   "id": "4e5bebbc",
   "metadata": {},
   "outputs": [
    {
     "name": "stdout",
     "output_type": "stream",
     "text": [
      "(10000, 7)\n",
      "Index(['CreditScore', 'Age', 'Tenure', 'Balance', 'HasCrCard', 'Salary',\n",
      "       'Exited'],\n",
      "      dtype='object')\n",
      "   CreditScore  Age  Tenure    Balance  HasCrCard     Salary  Exited\n",
      "0          619   42       2       0.00          1  101348.88       1\n",
      "1          608   41       1   83807.86          0  112542.58       0\n",
      "2          502   42       8  159660.80          1  113931.57       1\n"
     ]
    }
   ],
   "source": [
    "# Load the data from external flat file - use pandas.read_csv() or pandas.read_excel()\n",
    "import pandas as pd\n",
    "df1=pd.read_csv(\"churn-modelling.csv\")\n",
    "print(df1.shape)\n",
    "print(df1.columns)\n",
    "print(df1.head(3))"
   ]
  },
  {
   "cell_type": "code",
   "execution_count": 4,
   "id": "8d7ddc3a",
   "metadata": {},
   "outputs": [
    {
     "name": "stdout",
     "output_type": "stream",
     "text": [
      "<class 'sklearn.utils._bunch.Bunch'>\n",
      "(150, 4)\n",
      "<class 'numpy.ndarray'>\n",
      "[[5.1 3.5 1.4 0.2]\n",
      " [4.9 3.  1.4 0.2]\n",
      " [4.7 3.2 1.3 0.2]\n",
      " [4.6 3.1 1.5 0.2]\n",
      " [5.  3.6 1.4 0.2]]\n",
      "['sepal length (cm)', 'sepal width (cm)', 'petal length (cm)', 'petal width (cm)']\n",
      "<class 'numpy.ndarray'>\n",
      "[2 2 2 2 2]\n",
      "['setosa' 'versicolor' 'virginica']\n"
     ]
    }
   ],
   "source": [
    "# Load the data from sklearn.datasets - load_iris(), load_diabetes(), load_digits(), load_linnerud(), load_wine(), load_breast_cancer()\n",
    "from sklearn.datasets import load_iris\n",
    "dataset=load_iris()\n",
    "print(type(dataset))\n",
    "X=dataset.data\n",
    "print(X.shape)\n",
    "print(type(X))\n",
    "print(X[0:5])\n",
    "print(dataset.feature_names)\n",
    "Y=dataset.target\n",
    "print(type(Y))\n",
    "print(Y[145:150])\n",
    "print(dataset.target_names)\n",
    "# Parameter return_X_y=True returns the data set as separate input and output numpy arrays as ndobjects"
   ]
  },
  {
   "cell_type": "code",
   "execution_count": 7,
   "id": "db03a829",
   "metadata": {},
   "outputs": [
    {
     "name": "stdout",
     "output_type": "stream",
     "text": [
      "<class 'numpy.ndarray'>\n",
      "[[5.1 3.5 1.4 0.2]\n",
      " [4.9 3.  1.4 0.2]\n",
      " [4.7 3.2 1.3 0.2]\n",
      " [4.6 3.1 1.5 0.2]]\n",
      "<class 'numpy.ndarray'>\n",
      "[0 0 0 0 0]\n"
     ]
    }
   ],
   "source": [
    "#Loading the dataset as separate input and output numpy arrays as ndobjects\n",
    "X,y=load_iris(return_X_y=True)\n",
    "print(type(X))\n",
    "print(X[0:4])\n",
    "print(type(y))\n",
    "print(Y[0:5])"
   ]
  },
  {
   "cell_type": "code",
   "execution_count": 9,
   "id": "744a3297",
   "metadata": {},
   "outputs": [
    {
     "name": "stdout",
     "output_type": "stream",
     "text": [
      "<class 'pandas.core.frame.DataFrame'>\n",
      "   sepal length (cm)  sepal width (cm)  petal length (cm)  petal width (cm)\n",
      "0                5.1               3.5                1.4               0.2\n",
      "1                4.9               3.0                1.4               0.2\n",
      "2                4.7               3.2                1.3               0.2\n",
      "3                4.6               3.1                1.5               0.2\n",
      "4                5.0               3.6                1.4               0.2\n",
      "5                5.4               3.9                1.7               0.4\n"
     ]
    }
   ],
   "source": [
    "# Parameter as_frame=True returns the data as a dataframe.\n",
    "X,y=load_iris(return_X_y=True,as_frame=True)\n",
    "print(type(X))\n",
    "print(X[0:6])"
   ]
  },
  {
   "cell_type": "markdown",
   "id": "557cf5e0",
   "metadata": {},
   "source": [
    "<h2 style = \"color:green\">pandas.isna(object)</h2>\n",
    "\n",
    "### Detects missing values.\n",
    "### Returns a boolen object of same size.\n",
    "### None and np.NaN are mapped True values. Everything else gets mapped to False values."
   ]
  },
  {
   "cell_type": "code",
   "execution_count": 10,
   "id": "05bc4c73",
   "metadata": {},
   "outputs": [
    {
     "data": {
      "text/plain": [
       "CreditScore    0\n",
       "Age            0\n",
       "Tenure         0\n",
       "Balance        0\n",
       "HasCrCard      0\n",
       "Salary         0\n",
       "Exited         0\n",
       "dtype: int64"
      ]
     },
     "execution_count": 10,
     "metadata": {},
     "output_type": "execute_result"
    }
   ],
   "source": [
    "df1.isna().sum()"
   ]
  },
  {
   "cell_type": "code",
   "execution_count": 11,
   "id": "feaed93f",
   "metadata": {},
   "outputs": [],
   "source": [
    "x=df1.drop('Exited',axis=1)"
   ]
  },
  {
   "cell_type": "code",
   "execution_count": 12,
   "id": "f18b0691",
   "metadata": {},
   "outputs": [],
   "source": [
    "y=df1['Exited']"
   ]
  },
  {
   "cell_type": "code",
   "execution_count": 14,
   "id": "8bf3afd4",
   "metadata": {},
   "outputs": [
    {
     "name": "stdout",
     "output_type": "stream",
     "text": [
      "      CreditScore  Age  Tenure    Balance  HasCrCard     Salary\n",
      "1148          613   34       3       0.00          1   41724.72\n",
      "9689          698   57       9  111359.55          1  105715.01\n",
      "7324          607   39      10       0.00          1  132741.13\n",
      "2647          461   51       9  119889.84          0   56767.67\n",
      "668           695   46       3  122549.64          1   56297.85\n",
      "...           ...  ...     ...        ...        ...        ...\n",
      "4320          701   36       7   95448.32          1  189085.07\n",
      "9802          756   40       1   94773.11          1  114279.63\n",
      "9492          732   48       4  102962.62          1  120852.85\n",
      "3671          646   52       6  111739.40          0   68367.18\n",
      "2567          553   42       1       0.00          0   23822.04\n",
      "\n",
      "[3000 rows x 6 columns]\n",
      "1148    0\n",
      "9689    0\n",
      "7324    1\n",
      "2647    1\n",
      "668     0\n",
      "       ..\n",
      "4320    0\n",
      "9802    0\n",
      "9492    1\n",
      "3671    0\n",
      "2567    0\n",
      "Name: Exited, Length: 3000, dtype: int64\n",
      "      CreditScore  Age  Tenure    Balance  HasCrCard     Salary\n",
      "7668          526   61       6  133845.28          1   45180.80\n",
      "4119          670   36       7       0.00          0   59571.50\n",
      "2806          592   38       0       0.00          1   65986.48\n",
      "437           516   35      10  104088.59          0  119666.00\n",
      "4627          605   39       7       0.00          0  119348.28\n",
      "...           ...  ...     ...        ...        ...        ...\n",
      "8320          564   33       3  109341.87          1   75632.78\n",
      "7802          773   63       9  111179.83          1   93091.02\n",
      "5723          687   26       6       0.00          1   32909.13\n",
      "5370          682   41       6       0.00          0  134158.09\n",
      "9065          556   30       7       0.00          1  186648.19\n",
      "\n",
      "[7000 rows x 6 columns]\n",
      "7668    0\n",
      "4119    0\n",
      "2806    1\n",
      "437     0\n",
      "4627    0\n",
      "       ..\n",
      "8320    0\n",
      "7802    0\n",
      "5723    0\n",
      "5370    1\n",
      "9065    0\n",
      "Name: Exited, Length: 7000, dtype: int64\n",
      "(3000, 6)\n",
      "(3000,)\n",
      "(7000, 6)\n",
      "(7000,)\n"
     ]
    }
   ],
   "source": [
    "# Split the data\n",
    "from sklearn.model_selection import train_test_split\n",
    "x_train, x_test, y_train, y_test = train_test_split(x, y, test_size=0.7)\n",
    "print(x_train)\n",
    "print(y_train)\n",
    "print(x_test)\n",
    "print(y_test)\n",
    "print(x_train.shape)\n",
    "print(y_train.shape)\n",
    "print(x_test.shape)\n",
    "print(y_test.shape)"
   ]
  },
  {
   "cell_type": "markdown",
   "id": "c29b3ad9",
   "metadata": {},
   "source": [
    "#### We can use random_state keyword argument to get same set of training and testing samples."
   ]
  },
  {
   "cell_type": "code",
   "execution_count": 17,
   "id": "67b58c1a",
   "metadata": {},
   "outputs": [
    {
     "name": "stdout",
     "output_type": "stream",
     "text": [
      "(7000, 6)\n",
      "(3000, 6)\n",
      "(7000,)\n",
      "(3000,)\n"
     ]
    }
   ],
   "source": [
    "x_train, x_test, y_train, y_test=train_test_split(x,y, test_size=3000,random_state=37)\n",
    "print(x_train.shape)\n",
    "print(x_test.shape)\n",
    "print(y_train.shape)\n",
    "print(y_test.shape)"
   ]
  }
 ],
 "metadata": {
  "kernelspec": {
   "display_name": "Python 3 (ipykernel)",
   "language": "python",
   "name": "python3"
  },
  "language_info": {
   "codemirror_mode": {
    "name": "ipython",
    "version": 3
   },
   "file_extension": ".py",
   "mimetype": "text/x-python",
   "name": "python",
   "nbconvert_exporter": "python",
   "pygments_lexer": "ipython3",
   "version": "3.11.7"
  }
 },
 "nbformat": 4,
 "nbformat_minor": 5
}
